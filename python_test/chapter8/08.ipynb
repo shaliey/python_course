{
 "cells": [
  {
   "cell_type": "markdown",
   "metadata": {},
   "source": [
    "8.1 消息"
   ]
  },
  {
   "cell_type": "code",
   "execution_count": 1,
   "metadata": {},
   "outputs": [
    {
     "name": "stdout",
     "output_type": "stream",
     "text": [
      "function\n"
     ]
    }
   ],
   "source": [
    "def display_message():\n",
    "    print(\"function\")\n",
    "display_message()"
   ]
  },
  {
   "cell_type": "markdown",
   "metadata": {},
   "source": [
    "8.2 喜欢的书"
   ]
  },
  {
   "cell_type": "code",
   "execution_count": 4,
   "metadata": {},
   "outputs": [
    {
     "name": "stdout",
     "output_type": "stream",
     "text": [
      "One of my favorite is Alice in Wonderland\n"
     ]
    }
   ],
   "source": [
    "def favorite_book(title):\n",
    "    print(f\"One of my favorite is {title}\")\n",
    "favorite_book(\"Alice in Wonderland\")"
   ]
  },
  {
   "cell_type": "markdown",
   "metadata": {},
   "source": [
    "8.3 T恤"
   ]
  },
  {
   "cell_type": "code",
   "execution_count": 5,
   "metadata": {},
   "outputs": [
    {
     "name": "stdout",
     "output_type": "stream",
     "text": [
      "这件衣服是中号\n"
     ]
    }
   ],
   "source": [
    "def make_shirt():\n",
    "    print(\"这件衣服是中号\")\n",
    "make_shirt()"
   ]
  },
  {
   "cell_type": "markdown",
   "metadata": {},
   "source": [
    "8.4 大号T恤"
   ]
  },
  {
   "cell_type": "code",
   "execution_count": 7,
   "metadata": {},
   "outputs": [
    {
     "name": "stdout",
     "output_type": "stream",
     "text": [
      "your shirt's size is big, and the message is I love python\n",
      "your shirt's size is middle, and the message is I love python\n",
      "your shirt's size is 3, and the message is hello3\n"
     ]
    }
   ],
   "source": [
    "def make_shirt(size=\"big\", message=\"I love python\"):\n",
    "    print(f\"your shirt's size is {size}, and the message is {message}\")\n",
    "\n",
    "make_shirt()\n",
    "make_shirt(size=\"middle\")\n",
    "make_shirt(message=\"hello3\", size=3)"
   ]
  },
  {
   "cell_type": "markdown",
   "metadata": {},
   "source": [
    "8.5 城市"
   ]
  },
  {
   "cell_type": "code",
   "execution_count": 1,
   "metadata": {},
   "outputs": [
    {
     "name": "stdout",
     "output_type": "stream",
     "text": [
      "reykjavik is in iceland\n",
      "beijing is in china\n",
      "shanghai is in china\n"
     ]
    }
   ],
   "source": [
    "def describe_city(city, country=\"china\"):\n",
    "    print(f\"{city} is in {country}\")\n",
    "\n",
    "describe_city(\"reykjavik\", \"iceland\")\n",
    "describe_city(\"beijing\")\n",
    "describe_city(\"shanghai\", \"china\")"
   ]
  },
  {
   "cell_type": "markdown",
   "metadata": {},
   "source": [
    "8.6 城市名"
   ]
  },
  {
   "cell_type": "code",
   "execution_count": 2,
   "metadata": {},
   "outputs": [
    {
     "name": "stdout",
     "output_type": "stream",
     "text": [
      "Santiago, Chile\n",
      "london, england\n",
      "beijing, china\n"
     ]
    }
   ],
   "source": [
    "def city_country(city, country):\n",
    "    message = city +', ' + country\n",
    "    return message\n",
    "\n",
    "print(city_country(\"Santiago\", \"Chile\"))\n",
    "print(city_country(\"london\", \"england\"))\n",
    "print(city_country(\"beijing\", \"china\"))"
   ]
  },
  {
   "cell_type": "markdown",
   "metadata": {},
   "source": [
    "8.7 专辑"
   ]
  },
  {
   "cell_type": "code",
   "execution_count": 3,
   "metadata": {},
   "outputs": [
    {
     "name": "stdout",
     "output_type": "stream",
     "text": [
      "{'album_name': 'aa', 'singer_name': 'A'}\n",
      "{'album_name': 'aa', 'singer_name': 'A', 'number': '3'}\n"
     ]
    }
   ],
   "source": [
    "def make_album(singer, album, number=\"\"):\n",
    "    album = {'album_name': album, 'singer_name': singer}\n",
    "    if number:\n",
    "        album[\"number\"] = number\n",
    "    return album\n",
    "\n",
    "album1 = make_album(\"A\", \"aa\")\n",
    "print(album1)\n",
    "\n",
    "album2 = make_album(\"A\", \"aa\", '3')\n",
    "print(album2)"
   ]
  },
  {
   "cell_type": "markdown",
   "metadata": {},
   "source": [
    "8.8 用户的专辑"
   ]
  },
  {
   "cell_type": "code",
   "execution_count": 4,
   "metadata": {},
   "outputs": [
    {
     "name": "stdout",
     "output_type": "stream",
     "text": [
      "\n",
      "please enter the album information:\n",
      "(enter 'q' at any to quit.)\n",
      "{'album_name': '1', 'singer_name': '1'}\n",
      "\n",
      "please enter the album information:\n",
      "(enter 'q' at any to quit.)\n",
      "{'album_name': '2', 'singer_name': '2'}\n",
      "\n",
      "please enter the album information:\n",
      "(enter 'q' at any to quit.)\n"
     ]
    }
   ],
   "source": [
    "def make_album(singer, album, number=\"\"):\n",
    "    album = {'album_name': album, 'singer_name': singer}\n",
    "    if number:\n",
    "        album[\"number\"] = number\n",
    "    return album\n",
    "\n",
    "while True:\n",
    "    print(\"\\nplease enter the album information:\")\n",
    "    print(\"(enter 'q' at any to quit.)\")\n",
    "\n",
    "    album_name = input(\"album name: > \")\n",
    "    if album_name == 'q':\n",
    "        break\n",
    "\n",
    "    singer_name = input(\"singer name: > \")\n",
    "    if singer_name == 'q':\n",
    "        break\n",
    "\n",
    "    a = make_album(album_name, singer_name)\n",
    "    print(a)"
   ]
  },
  {
   "cell_type": "markdown",
   "metadata": {},
   "source": [
    "8.9 魔术师"
   ]
  },
  {
   "cell_type": "code",
   "execution_count": 5,
   "metadata": {},
   "outputs": [
    {
     "name": "stdout",
     "output_type": "stream",
     "text": [
      "a\n",
      "b\n",
      "c\n"
     ]
    }
   ],
   "source": [
    "magician_list = ['a','b','c']\n",
    "\n",
    "def show_magicians(magicians):\n",
    "    for magician in magicians:\n",
    "        print(magician)\n",
    "\n",
    "show_magicians(magician_list)"
   ]
  },
  {
   "cell_type": "markdown",
   "metadata": {},
   "source": [
    "8.10 了不起的魔术师"
   ]
  },
  {
   "cell_type": "code",
   "execution_count": 6,
   "metadata": {},
   "outputs": [
    {
     "name": "stdout",
     "output_type": "stream",
     "text": [
      "the great c\n",
      "the great b\n",
      "the great a\n"
     ]
    }
   ],
   "source": [
    "magician_list = ['a','b','c']\n",
    "magician_new =[]\n",
    "\n",
    "def show_magicians(magicians):\n",
    "    for magician in magicians:\n",
    "        print(magician)\n",
    "\n",
    "def make_great(magician_list):\n",
    "    while magician_list:\n",
    "        current = \"the great \" + magician_list.pop()\n",
    "        magician_new.append(current)\n",
    "\n",
    "make_great(magician_list)\n",
    "\n",
    "show_magicians(magician_new)"
   ]
  },
  {
   "cell_type": "markdown",
   "metadata": {},
   "source": [
    "8.11 不变的魔术师"
   ]
  },
  {
   "cell_type": "code",
   "execution_count": 7,
   "metadata": {},
   "outputs": [
    {
     "name": "stdout",
     "output_type": "stream",
     "text": [
      "the great c\n",
      "the great b\n",
      "the great a\n",
      "a\n",
      "b\n",
      "c\n"
     ]
    }
   ],
   "source": [
    "magician_list = ['a','b','c']\n",
    "magician_new =[]\n",
    "\n",
    "def show_magicians(magicians):\n",
    "    for magician in magicians:\n",
    "        print(magician)\n",
    "\n",
    "def make_great(magician_list):\n",
    "    while magician_list:\n",
    "        current = \"the great \" + magician_list.pop()\n",
    "        magician_new.append(current)\n",
    "\n",
    "make_great(magician_list[:])\n",
    "\n",
    "show_magicians(magician_new)\n",
    "show_magicians(magician_list)"
   ]
  },
  {
   "cell_type": "markdown",
   "metadata": {},
   "source": [
    "8.12 三明治"
   ]
  },
  {
   "cell_type": "code",
   "execution_count": 8,
   "metadata": {},
   "outputs": [
    {
     "name": "stdout",
     "output_type": "stream",
     "text": [
      "a\n",
      "------------------\n",
      "a\n",
      "b\n",
      "------------------\n",
      "a\n",
      "b\n",
      "c\n"
     ]
    }
   ],
   "source": [
    "def food_message(*foods):\n",
    "    for food in foods:\n",
    "        print(food)\n",
    "food_message(\"a\")\n",
    "print(\"------------------\")\n",
    "food_message('a', \"b\")\n",
    "print(\"------------------\")\n",
    "food_message(\"a\",'b','c')"
   ]
  },
  {
   "cell_type": "markdown",
   "metadata": {},
   "source": [
    "8-13 用户简介"
   ]
  },
  {
   "cell_type": "code",
   "execution_count": 9,
   "metadata": {},
   "outputs": [
    {
     "name": "stdout",
     "output_type": "stream",
     "text": [
      "{'first_name': 'albert', 'last_name': 'einstein', 'location': 'princeton', 'field': 'physics', 'age': 18}\n"
     ]
    }
   ],
   "source": [
    "def build_profile(first, last, **user_info):\n",
    "    \"\"\"创建一个字典，其中包含我们知道的有关用户的一切\"\"\"\n",
    "    profile = {}\n",
    "    profile['first_name'] = first\n",
    "    profile['last_name'] = last\n",
    "    for key, value in user_info.items():\n",
    "        profile[key] = value\n",
    "    return profile\n",
    "\n",
    "user_profile = build_profile('albert', 'einstein', location='princeton',field='physics',age = 18)\n",
    "\n",
    "print(user_profile)"
   ]
  },
  {
   "cell_type": "markdown",
   "metadata": {},
   "source": [
    "8.14 汽车"
   ]
  },
  {
   "cell_type": "code",
   "execution_count": 10,
   "metadata": {},
   "outputs": [
    {
     "name": "stdout",
     "output_type": "stream",
     "text": [
      "{'manufacturer': 'BMW', 'car_type': 740, 'color': 'red', 'displacement': '5.2L', 'number': 4}\n"
     ]
    }
   ],
   "source": [
    "def cars(manufacturer, car_type, **items):\n",
    "    car_info = {}\n",
    "    car_info['manufacturer'] = manufacturer\n",
    "    car_info['car_type'] = car_type\n",
    "    for key,value in items.items():\n",
    "        car_info[key] = value\n",
    "    return car_info\n",
    "\n",
    "car_info = cars('BMW',740, color = 'red', displacement='5.2L', number=4)\n",
    "\n",
    "print(car_info)"
   ]
  }
 ],
 "metadata": {
  "kernelspec": {
   "display_name": "Python 3",
   "language": "python",
   "name": "python3"
  },
  "language_info": {
   "codemirror_mode": {
    "name": "ipython",
    "version": 3
   },
   "file_extension": ".py",
   "mimetype": "text/x-python",
   "name": "python",
   "nbconvert_exporter": "python",
   "pygments_lexer": "ipython3",
   "version": "3.11.3"
  }
 },
 "nbformat": 4,
 "nbformat_minor": 2
}
