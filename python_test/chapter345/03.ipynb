{
 "cells": [
  {
   "cell_type": "markdown",
   "metadata": {},
   "source": [
    "3.1 姓名"
   ]
  },
  {
   "cell_type": "code",
   "execution_count": 15,
   "metadata": {},
   "outputs": [
    {
     "name": "stdout",
     "output_type": "stream",
     "text": [
      "张三 李四 王五\n"
     ]
    }
   ],
   "source": [
    "names = ['张三','李四','王五',]\n",
    "print(names[0],names[1],names[2])"
   ]
  },
  {
   "cell_type": "markdown",
   "metadata": {},
   "source": [
    "3.2 问候语"
   ]
  },
  {
   "cell_type": "code",
   "execution_count": 16,
   "metadata": {},
   "outputs": [
    {
     "name": "stdout",
     "output_type": "stream",
     "text": [
      "张三,nice to meet you\n",
      "李四,nice to meet you\n",
      "王五,nice to meet you\n"
     ]
    }
   ],
   "source": [
    "message=\"nice to meet you\"\n",
    "print(names[0]+','+message)\n",
    "print(names[1]+','+message)\n",
    "print(names[2]+','+message)"
   ]
  },
  {
   "cell_type": "markdown",
   "metadata": {},
   "source": [
    "3.3 自己的列表"
   ]
  },
  {
   "cell_type": "code",
   "execution_count": 17,
   "metadata": {},
   "outputs": [
    {
     "name": "stdout",
     "output_type": "stream",
     "text": [
      "I would like to own acar\n",
      "I would like to own abike\n",
      "I would like to own amotocycle\n"
     ]
    }
   ],
   "source": [
    "traffic = ['car','bike','motocycle']\n",
    "print(\"I would like to own a\" + traffic[0])\n",
    "print(\"I would like to own a\" + traffic[1])\n",
    "print(\"I would like to own a\" + traffic[2])"
   ]
  },
  {
   "cell_type": "markdown",
   "metadata": {},
   "source": [
    "3.4 嘉宾名单"
   ]
  },
  {
   "cell_type": "code",
   "execution_count": 18,
   "metadata": {},
   "outputs": [
    {
     "name": "stdout",
     "output_type": "stream",
     "text": [
      "尊敬的张三李四王五,欢迎来参加我的宴会！\n"
     ]
    }
   ],
   "source": [
    "names = ['张三','李四','王五',]\n",
    "print(\"尊敬的\"+names[0]+names[1]+names[2]+\",欢迎来参加我的宴会！\")"
   ]
  },
  {
   "cell_type": "markdown",
   "metadata": {},
   "source": [
    "3.5 修改嘉宾名单"
   ]
  },
  {
   "cell_type": "code",
   "execution_count": 19,
   "metadata": {},
   "outputs": [
    {
     "name": "stdout",
     "output_type": "stream",
     "text": [
      "尊敬的张三老六王五,欢迎来参加我的宴会！\n",
      "由于李四事务繁忙，我们又邀请了老六\n"
     ]
    }
   ],
   "source": [
    "names_absent = names.pop(1)\n",
    "names.insert(1,'老六')\n",
    "print(\"尊敬的\"+names[0]+names[1]+names[2]+\",欢迎来参加我的宴会！\")\n",
    "print(\"由于\"+names_absent+\"事务繁忙，我们又邀请了\"+names[1])"
   ]
  },
  {
   "cell_type": "markdown",
   "metadata": {},
   "source": [
    "3.6 添加嘉宾"
   ]
  },
  {
   "cell_type": "code",
   "execution_count": 20,
   "metadata": {},
   "outputs": [
    {
     "name": "stdout",
     "output_type": "stream",
     "text": [
      "尊敬的老七张三老八老六王五老九,欢迎来参加我的宴会！\n"
     ]
    }
   ],
   "source": [
    "names.insert(0,'老七')\n",
    "names.insert(2,'老八')\n",
    "names.append('老九')\n",
    "print(\"尊敬的\"+names[0]+names[1]+names[2]+names[3]+names[4]+names[5]+\",欢迎来参加我的宴会！\")"
   ]
  },
  {
   "cell_type": "markdown",
   "metadata": {},
   "source": [
    "3.7 缩短名单"
   ]
  },
  {
   "cell_type": "code",
   "execution_count": 23,
   "metadata": {},
   "outputs": [
    {
     "name": "stdout",
     "output_type": "stream",
     "text": [
      "马拉多纳, 很抱歉，位置不够，你不能来参加了！\n",
      "马斯克, 很抱歉，位置不够，你不能来参加了！\n",
      "马化腾, 很抱歉，位置不够，你不能来参加了！\n",
      "马东敏, 很抱歉，位置不够，你不能来参加了！\n",
      "尊敬的：马蓉, 请来参加我的慈善晚宴！\n",
      "尊敬的：马云, 请来参加我的慈善晚宴！\n",
      "[]\n"
     ]
    }
   ],
   "source": [
    "# print(names.pop()+\"很抱歉，不能邀请你来宴会\")\n",
    "# print(names.pop()+\"很抱歉，不能邀请你来宴会\")\n",
    "# print(names.pop()+\"很抱歉，不能邀请你来宴会\")\n",
    "# print(names.pop()+\"很抱歉，不能邀请你来宴会\")\n",
    "\n",
    "# for name in names:\n",
    "#     print(\"尊敬的\"+name+\",欢迎来参加我的宴会！\")\n",
    "\n",
    "# del names[0]\n",
    "# del names[1]\n",
    "\n",
    "# print(names)\n",
    "\n",
    "names = [\"马云\", \"马化腾\", \"马斯克\"]\n",
    "\n",
    "names.insert(0, \"马蓉\")\n",
    "names.insert(2,\"马东敏\")\n",
    "names.append(\"马拉多纳\")\n",
    "\n",
    "print(names.pop() + \", 很抱歉，位置不够，你不能来参加了！\")\n",
    "print(names.pop() + \", 很抱歉，位置不够，你不能来参加了！\")\n",
    "print(names.pop() + \", 很抱歉，位置不够，你不能来参加了！\")\n",
    "print(names.pop() + \", 很抱歉，位置不够，你不能来参加了！\")\n",
    "\n",
    "for name in names:\n",
    "    print(\"尊敬的：\" + name + \", 请来参加我的慈善晚宴！\")\n",
    "\n",
    "del names[1]\n",
    "del names[0]\n",
    "\n",
    "print(names)\n"
   ]
  },
  {
   "cell_type": "markdown",
   "metadata": {},
   "source": [
    "3.8 放眼世界"
   ]
  },
  {
   "cell_type": "code",
   "execution_count": 25,
   "metadata": {},
   "outputs": [
    {
     "name": "stdout",
     "output_type": "stream",
     "text": [
      "['London', 'Paris', 'Hong Kong', 'Beijing', 'Shanghai']\n",
      "['Beijing', 'Hong Kong', 'London', 'Paris', 'Shanghai']\n",
      "['London', 'Paris', 'Hong Kong', 'Beijing', 'Shanghai']\n",
      "['Shanghai', 'Paris', 'London', 'Hong Kong', 'Beijing']\n",
      "['London', 'Paris', 'Hong Kong', 'Beijing', 'Shanghai']\n",
      "['Shanghai', 'Beijing', 'Hong Kong', 'Paris', 'London']\n",
      "['London', 'Paris', 'Hong Kong', 'Beijing', 'Shanghai']\n",
      "['Beijing', 'Hong Kong', 'London', 'Paris', 'Shanghai']\n",
      "['Shanghai', 'Paris', 'London', 'Hong Kong', 'Beijing']\n"
     ]
    }
   ],
   "source": [
    "places = [\"London\", \"Paris\", \"Hong Kong\", \"Beijing\", \"Shanghai\"]\n",
    "print(places)\n",
    "\n",
    "print(sorted(places))\n",
    "print(places)\n",
    "\n",
    "print(sorted(places,reverse=True))\n",
    "print(places)\n",
    "\n",
    "places.reverse()\n",
    "print(places)\n",
    "places.reverse()\n",
    "print(places)\n",
    "\n",
    "places.sort()\n",
    "print(places)\n",
    "places.sort(reverse=True)\n",
    "print(places)"
   ]
  },
  {
   "cell_type": "markdown",
   "metadata": {},
   "source": [
    "3.9 晚餐嘉宾"
   ]
  },
  {
   "cell_type": "code",
   "execution_count": 35,
   "metadata": {},
   "outputs": [
    {
     "name": "stdout",
     "output_type": "stream",
     "text": [
      "尊敬的张三李四王五,欢迎来参加我的宴会！\n",
      "我一共邀请了3位嘉宾来参加宴会。\n"
     ]
    }
   ],
   "source": [
    "names = ['张三','李四','王五',]\n",
    "print(\"尊敬的\"+names[0]+names[1]+names[2]+\",欢迎来参加我的宴会！\")\n",
    "length=len(names)\n",
    "\n",
    "print(\"我一共邀请了\"+str(length)+\"位嘉宾来参加宴会。\")"
   ]
  }
 ],
 "metadata": {
  "kernelspec": {
   "display_name": "Python 3",
   "language": "python",
   "name": "python3"
  },
  "language_info": {
   "codemirror_mode": {
    "name": "ipython",
    "version": 3
   },
   "file_extension": ".py",
   "mimetype": "text/x-python",
   "name": "python",
   "nbconvert_exporter": "python",
   "pygments_lexer": "ipython3",
   "version": "3.11.3"
  },
  "orig_nbformat": 4
 },
 "nbformat": 4,
 "nbformat_minor": 2
}
