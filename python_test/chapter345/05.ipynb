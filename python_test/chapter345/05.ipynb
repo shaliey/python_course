{
 "cells": [
  {
   "cell_type": "markdown",
   "metadata": {},
   "source": [
    "5.1 条件测试"
   ]
  },
  {
   "cell_type": "code",
   "execution_count": 2,
   "metadata": {},
   "outputs": [
    {
     "name": "stdout",
     "output_type": "stream",
     "text": [
      "Is car == 'subaru'? I predict True.\n",
      "True\n",
      "\n",
      "Is car == 'audi'? I predict False.\n",
      "False\n"
     ]
    },
    {
     "data": {
      "text/plain": [
       "False"
      ]
     },
     "execution_count": 2,
     "metadata": {},
     "output_type": "execute_result"
    }
   ],
   "source": [
    "car = 'subaru'\n",
    "print(\"Is car == 'subaru'? I predict True.\")\n",
    "print(car == 'subaru')\n",
    "print(\"\\nIs car == 'audi'? I predict False.\")\n",
    "print(car == 'audi')\n",
    "True\n",
    "False\n"
   ]
  },
  {
   "cell_type": "markdown",
   "metadata": {},
   "source": [
    "5.2 更多条件测试"
   ]
  },
  {
   "cell_type": "markdown",
   "metadata": {},
   "source": [
    "5.3 外星人颜色1"
   ]
  },
  {
   "cell_type": "code",
   "execution_count": 3,
   "metadata": {},
   "outputs": [
    {
     "name": "stdout",
     "output_type": "stream",
     "text": [
      "you got 5 points\n"
     ]
    }
   ],
   "source": [
    "alien_color = 'green'\n",
    "if alien_color == 'green':\n",
    "    print(\"you got 5 points\")\n",
    "alien_color = 'red'\n",
    "if alien_color == 'green':\n",
    "    print(\"you got 5 points\")"
   ]
  },
  {
   "cell_type": "markdown",
   "metadata": {},
   "source": [
    "5.4 外星人颜色2"
   ]
  },
  {
   "cell_type": "code",
   "execution_count": 5,
   "metadata": {},
   "outputs": [
    {
     "name": "stdout",
     "output_type": "stream",
     "text": [
      "you got 5 points\n",
      "another test:\n",
      "you got 10 points\n"
     ]
    }
   ],
   "source": [
    "alien_color = 'green'\n",
    "if alien_color == 'green':\n",
    "    print(\"you got 5 points\")\n",
    "else:\n",
    "    print(\"you got 10 points\")\n",
    "print(\"another test:\")\n",
    "alien_color = 'red'\n",
    "if alien_color == 'green':\n",
    "    print(\"you got 5 points\")\n",
    "else:\n",
    "    print(\"you got 10 points\")"
   ]
  },
  {
   "cell_type": "markdown",
   "metadata": {},
   "source": [
    "5.5 外星人颜色"
   ]
  },
  {
   "cell_type": "code",
   "execution_count": 6,
   "metadata": {},
   "outputs": [
    {
     "name": "stdout",
     "output_type": "stream",
     "text": [
      "first test:\n",
      "you got 5 points\n",
      "second test:\n",
      "you got 10 points\n",
      "third test:\n",
      "you got 15 points\n"
     ]
    }
   ],
   "source": [
    "print(\"first test:\")\n",
    "alien_color = 'green'\n",
    "if alien_color == 'green':\n",
    "    print(\"you got 5 points\")\n",
    "elif alien_color == 'yellow':\n",
    "    print(\"you got 10 points\")\n",
    "else:\n",
    "    print(\"you got 15 points\")\n",
    "print(\"second test:\")\n",
    "alien_color = 'yellow'\n",
    "if alien_color == 'green':\n",
    "    print(\"you got 5 points\")\n",
    "elif alien_color == 'yellow':\n",
    "    print(\"you got 10 points\")\n",
    "else:\n",
    "    print(\"you got 15 points\")\n",
    "print(\"third test:\")\n",
    "alien_color = 'red'\n",
    "if alien_color == 'green':\n",
    "    print(\"you got 5 points\")\n",
    "elif alien_color == 'yellow':\n",
    "    print(\"you got 10 points\")\n",
    "else:\n",
    "    print(\"you got 15 points\")"
   ]
  },
  {
   "cell_type": "markdown",
   "metadata": {},
   "source": [
    "5.6 人生的不同阶段"
   ]
  },
  {
   "cell_type": "code",
   "execution_count": 7,
   "metadata": {},
   "outputs": [
    {
     "name": "stdout",
     "output_type": "stream",
     "text": [
      "teenager\n"
     ]
    }
   ],
   "source": [
    "age = 18\n",
    "if age < 2:\n",
    "    print(\"baby\")\n",
    "elif 2<age<=4:\n",
    "    print(\"teen\")\n",
    "elif 4<age<=13:\n",
    "    print(\"teens\")\n",
    "elif 13<age<=18:\n",
    "    print(\"teenager\")\n",
    "elif 18<age<=65:\n",
    "    print(\"adult\")\n",
    "else:\n",
    "    print(\"old\")"
   ]
  },
  {
   "cell_type": "markdown",
   "metadata": {},
   "source": [
    "5.7 喜欢的水果"
   ]
  },
  {
   "cell_type": "code",
   "execution_count": 9,
   "metadata": {},
   "outputs": [
    {
     "name": "stdout",
     "output_type": "stream",
     "text": [
      "You really like apples!\n",
      "You really like banana!\n",
      "You really like lemon!\n"
     ]
    }
   ],
   "source": [
    "favourite_fruits = ['apple','banana','lemon',]\n",
    "if 'apple' in favourite_fruits:\n",
    "    print(\"You really like apples!\")\n",
    "if 'banana' in favourite_fruits:\n",
    "    print(\"You really like banana!\")\n",
    "if 'lemon' in favourite_fruits:\n",
    "    print(\"You really like lemon!\")\n",
    "if \"pear\" in favourite_fruits:\n",
    "    print(\"You really like pears!\")"
   ]
  },
  {
   "cell_type": "markdown",
   "metadata": {},
   "source": [
    "5.8 以特殊方式和管理员打招呼"
   ]
  },
  {
   "cell_type": "code",
   "execution_count": 13,
   "metadata": {},
   "outputs": [
    {
     "name": "stdout",
     "output_type": "stream",
     "text": [
      "Hello admin,would you like to see a status report?\n",
      "Hello 张三,thank you for logging in again.\n",
      "Hello 李四,thank you for logging in again.\n",
      "Hello 王五,thank you for logging in again.\n",
      "Hello 老六,thank you for logging in again.\n"
     ]
    }
   ],
   "source": [
    "user_list = ['admin','张三','李四','王五','老六',]\n",
    "for user in user_list:\n",
    "    if user == 'admin':\n",
    "        print(\"Hello %s,would you like to see a status report?\"%user)\n",
    "    else:\n",
    "        print(\"Hello %s,thank you for logging in again.\"%user)"
   ]
  },
  {
   "cell_type": "markdown",
   "metadata": {},
   "source": [
    "5.9 处理没有用户的情形"
   ]
  },
  {
   "cell_type": "code",
   "execution_count": 14,
   "metadata": {},
   "outputs": [
    {
     "name": "stdout",
     "output_type": "stream",
     "text": [
      "Hello admin,would you like to see a status report?\n",
      "Hello 张三,thank you for logging in again.\n",
      "Hello 李四,thank you for logging in again.\n",
      "Hello 王五,thank you for logging in again.\n",
      "Hello 老六,thank you for logging in again.\n",
      "We need to find some users!\n"
     ]
    }
   ],
   "source": [
    "user_list = ['admin','张三','李四','王五','老六',]\n",
    "if user_list:\n",
    "    for user in user_list:\n",
    "        if user == 'admin':\n",
    "            print(\"Hello %s,would you like to see a status report?\"%user)\n",
    "        else:\n",
    "            print(\"Hello %s,thank you for logging in again.\"%user)\n",
    "else:\n",
    "    print(\"We need to find some users!\")\n",
    "\n",
    "user_list = []\n",
    "if user_list:\n",
    "    for user in user_list:\n",
    "        if user == 'admin':\n",
    "            print(\"Hello %s,would you like to see a status report?\"%user)\n",
    "        else:\n",
    "            print(\"Hello %s,thank you for logging in again.\"%user)\n",
    "else:\n",
    "    print(\"We need to find some users!\")\n",
    "\n"
   ]
  },
  {
   "cell_type": "markdown",
   "metadata": {},
   "source": [
    "5.10 检查用户名"
   ]
  },
  {
   "cell_type": "code",
   "execution_count": 15,
   "metadata": {},
   "outputs": [
    {
     "name": "stdout",
     "output_type": "stream",
     "text": [
      "smith not used!\n",
      "Eric has used!\n",
      "bob not used!\n",
      "john has used!\n",
      "michael not used!\n"
     ]
    }
   ],
   "source": [
    "current_users = [\"john\", \"admin\", \"jack\", \"eric\", \"alice\"]\n",
    "new_users = [\"smith\", \"Eric\", \"bob\", \"john\", \"michael\"]\n",
    "\n",
    "for new_user in new_users:\n",
    "    if new_user.lower() in current_users:\n",
    "        print(f\"{new_user} has used!\")\n",
    "    else:\n",
    "        print(f\"{new_user} not used!\")"
   ]
  },
  {
   "cell_type": "markdown",
   "metadata": {},
   "source": [
    "5.11 序数"
   ]
  },
  {
   "cell_type": "code",
   "execution_count": 17,
   "metadata": {},
   "outputs": [
    {
     "name": "stdout",
     "output_type": "stream",
     "text": [
      "1st\n",
      "2nd\n",
      "3rd\n",
      "4th\n",
      "5th\n",
      "6th\n",
      "7th\n",
      "8th\n",
      "9th\n"
     ]
    }
   ],
   "source": [
    "digitals = list(range(1, 10))\n",
    "for digital in digitals:\n",
    "    if digital == 1:\n",
    "        print(\"%dst\"%digital)\n",
    "    elif digital == 2:\n",
    "        print(f\"{digital}nd\")\n",
    "    elif digital == 3:\n",
    "        print(\"{}rd\".format(digital))\n",
    "    else:\n",
    "        print(str(digital) + \"th\")"
   ]
  }
 ],
 "metadata": {
  "kernelspec": {
   "display_name": "Python 3",
   "language": "python",
   "name": "python3"
  },
  "language_info": {
   "codemirror_mode": {
    "name": "ipython",
    "version": 3
   },
   "file_extension": ".py",
   "mimetype": "text/x-python",
   "name": "python",
   "nbconvert_exporter": "python",
   "pygments_lexer": "ipython3",
   "version": "3.11.3"
  },
  "orig_nbformat": 4
 },
 "nbformat": 4,
 "nbformat_minor": 2
}
