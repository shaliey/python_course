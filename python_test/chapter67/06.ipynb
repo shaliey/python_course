{
 "cells": [
  {
   "cell_type": "markdown",
   "metadata": {},
   "source": [
    "6.1 人"
   ]
  },
  {
   "cell_type": "code",
   "execution_count": 1,
   "metadata": {},
   "outputs": [
    {
     "name": "stdout",
     "output_type": "stream",
     "text": [
      "{'first_name': '张', 'last_name': '三', 'age': 18, 'city': '长沙'}\n"
     ]
    }
   ],
   "source": [
    "person = {'first_name': '张','last_name': '三','age': 18,'city': '长沙'}\n",
    "print(person)"
   ]
  },
  {
   "cell_type": "markdown",
   "metadata": {},
   "source": [
    "6.2 喜欢的数1"
   ]
  },
  {
   "cell_type": "code",
   "execution_count": 2,
   "metadata": {},
   "outputs": [
    {
     "name": "stdout",
     "output_type": "stream",
     "text": [
      "{'Lily': 1, 'Ada': 2, 'Jhon': 3, 'Amy': 4, 'Sarah': 5}\n"
     ]
    }
   ],
   "source": [
    "number = {'Lily': 1,'Ada': 2,'Jhon': 3,'Amy': 4,'Sarah': 5}\n",
    "print(number)"
   ]
  },
  {
   "cell_type": "markdown",
   "metadata": {},
   "source": [
    "6.3 词汇表1"
   ]
  },
  {
   "cell_type": "code",
   "execution_count": 3,
   "metadata": {},
   "outputs": [
    {
     "name": "stdout",
     "output_type": "stream",
     "text": [
      "list: 列表\n",
      "str: 字符串\n",
      "tuple: 元组\n",
      "dict: 字典\n",
      "int: 整型\n"
     ]
    }
   ],
   "source": [
    "dicts = {'list': '列表', 'str': '字符串', 'tuple': '元组', 'dict': '字典', 'int': '整型' }\n",
    "print('list' + \": \" + dicts['list'] )\n",
    "print('str' + \": \" + dicts['str'] )\n",
    "print('tuple' + \": \" + dicts['tuple'] )\n",
    "print('dict' + \": \" + dicts['dict'] )\n",
    "print('int' + \": \" + dicts['int'] )"
   ]
  },
  {
   "cell_type": "markdown",
   "metadata": {},
   "source": [
    "6.4 词汇表2"
   ]
  },
  {
   "cell_type": "code",
   "execution_count": 6,
   "metadata": {},
   "outputs": [
    {
     "name": "stdout",
     "output_type": "stream",
     "text": [
      "\n",
      "Key:list\n",
      "Value:列表\n",
      "\n",
      "Key:str\n",
      "Value:字符串\n",
      "\n",
      "Key:tuple\n",
      "Value:元组\n",
      "\n",
      "Key:dict\n",
      "Value:字典\n",
      "\n",
      "Key:int\n",
      "Value:整型\n",
      "list: 列表\n",
      "str: 字符串\n",
      "tuple: 元组\n",
      "dict: 字典\n",
      "int: 整型\n",
      "split: 切片\n",
      "if: 条件\n",
      "class: 类\n",
      "object: 对象\n",
      "boolean: 布尔\n"
     ]
    }
   ],
   "source": [
    "dicts = {'list': '列表', 'str': '字符串', 'tuple': '元组', 'dict': '字典', 'int': '整型' }\n",
    "for key ,value in dicts.items():\n",
    "    print(f\"\\nKey:{key}\")\n",
    "    print(f\"Value:{value}\")\n",
    "    \n",
    "dicts['split'] = '切片'\n",
    "dicts['if'] =  '条件'\n",
    "dicts['class'] = '类'\n",
    "dicts['object'] = '对象'\n",
    "dicts['boolean'] = '布尔'\n",
    "\n",
    "for key, value in dicts.items():\n",
    "    print(f\"{key}: {value}\")"
   ]
  },
  {
   "cell_type": "markdown",
   "metadata": {},
   "source": [
    "6.5 河流"
   ]
  },
  {
   "cell_type": "code",
   "execution_count": 12,
   "metadata": {},
   "outputs": [
    {
     "name": "stdout",
     "output_type": "stream",
     "text": [
      "The Nile runs through Egypt\n",
      "The Long River runs through China\n",
      "The Amazon runs through Brazil\n",
      "Nile\n",
      "Long River\n",
      "Amazon\n",
      "Egypt\n",
      "China\n",
      "Brazil\n"
     ]
    }
   ],
   "source": [
    "dicts = {'nile': 'egypt', 'long river': 'china', 'amazon': 'brazil' }\n",
    "for key,value in dicts.items():\n",
    "    print(f\"The {key.title()} runs through {value.title()}\")\n",
    "for key in dicts.keys():\n",
    "    print(key.title())\n",
    "for value in dicts.values():\n",
    "    print(value.title())"
   ]
  },
  {
   "cell_type": "markdown",
   "metadata": {},
   "source": [
    "6.6 调查"
   ]
  },
  {
   "cell_type": "code",
   "execution_count": 17,
   "metadata": {},
   "outputs": [
    {
     "name": "stdout",
     "output_type": "stream",
     "text": [
      "Please take our poll,John\n",
      "Thanks Jen.\n",
      "Thanks Phil.\n",
      "Please take our poll,Alice\n",
      "Please take our poll,Eric\n"
     ]
    }
   ],
   "source": [
    "favorite_languages = {\n",
    "    'jen': 'python',\n",
    "    'sarah': 'c',\n",
    "    'edward': 'ruby',\n",
    "    'phil': 'python',\n",
    "    }\n",
    "\n",
    "names = ['john', 'jen', 'phil', 'alice', 'eric']\n",
    "for name in names:\n",
    "    if name in favorite_languages.keys():\n",
    "        print(f\"Thanks {name.title()}.\")\n",
    "    else :\n",
    "        print(f\"Please take our poll,{name.title()}\")"
   ]
  },
  {
   "cell_type": "markdown",
   "metadata": {},
   "source": [
    "6.7 人"
   ]
  },
  {
   "cell_type": "code",
   "execution_count": 18,
   "metadata": {},
   "outputs": [
    {
     "name": "stdout",
     "output_type": "stream",
     "text": [
      "first_name: john\n",
      "last_name: smith\n",
      "age: 18\n",
      "city: beijing\n",
      "---------------------\n",
      "first_name: jack\n",
      "last_name: london\n",
      "age: 30\n",
      "city: london\n",
      "---------------------\n",
      "first_name: michael\n",
      "last_name: jackson\n",
      "age: 65\n",
      "city: paris\n",
      "---------------------\n"
     ]
    }
   ],
   "source": [
    "p1 = {\n",
    "    \"first_name\": \"john\",\n",
    "    \"last_name\": \"smith\",\n",
    "    \"age\": 18,\n",
    "    \"city\": \"beijing\"\n",
    "    }\n",
    "\n",
    "p2 = {\n",
    "    \"first_name\": \"jack\",\n",
    "    \"last_name\": \"london\",\n",
    "    \"age\": 30,\n",
    "    \"city\": \"london\"\n",
    "    }\n",
    "\n",
    "p3 = {\n",
    "    \"first_name\": \"michael\",\n",
    "    \"last_name\": \"jackson\",\n",
    "    \"age\": 65,\n",
    "    \"city\": \"paris\"\n",
    "    }\n",
    "\n",
    "\n",
    "peoples = [p1, p2, p3]\n",
    "\n",
    "for people in peoples:\n",
    "    for key,value in people.items():\n",
    "        print(f\"{key}: {value}\")\n",
    "    print('---------------------')"
   ]
  },
  {
   "cell_type": "markdown",
   "metadata": {},
   "source": [
    "6.8 宠物"
   ]
  },
  {
   "cell_type": "code",
   "execution_count": 19,
   "metadata": {},
   "outputs": [
    {
     "name": "stdout",
     "output_type": "stream",
     "text": [
      "type : cat\n",
      "master : xiaoming\n",
      "--------------------------\n",
      "type : dog\n",
      "master : xiaohong\n",
      "--------------------------\n",
      "type : rabbit\n",
      "master : xiaojun\n",
      "--------------------------\n"
     ]
    }
   ],
   "source": [
    "cat = {'type': 'cat', 'master': 'xiaoming'}\n",
    "dog = {'type': 'dog', 'master': 'xiaohong'}\n",
    "rabbit = {'type': 'rabbit', 'master': 'xiaojun'}\n",
    "\n",
    "pets = [cat, dog, rabbit]\n",
    "\n",
    "for pet in pets:\n",
    "    for key, value in pet.items():\n",
    "        print(\"{0} : {1}\".format(key, value))\n",
    "    print(\"--------------------------\")"
   ]
  },
  {
   "cell_type": "markdown",
   "metadata": {},
   "source": [
    "6.9 喜欢的地方"
   ]
  },
  {
   "cell_type": "code",
   "execution_count": 20,
   "metadata": {},
   "outputs": [
    {
     "name": "stdout",
     "output_type": "stream",
     "text": [
      "jack's favorite pleaces is : beijing,tianjing,\n",
      "----------------------------------------------------\n",
      "john's favorite pleaces is : guangzhou,shenzhen,zhuhai,\n",
      "----------------------------------------------------\n",
      "alice's favorite pleaces is : shanghai,suzhou,wuxi,\n",
      "----------------------------------------------------\n"
     ]
    }
   ],
   "source": [
    "favorite_places = {'jack':['beijing', 'tianjing'], 'john': ['guangzhou','shenzhen',\n",
    "'zhuhai'],   'alice': ['shanghai', 'suzhou', 'wuxi']}\n",
    "\n",
    "for key,values in favorite_places.items():\n",
    "    print(f\"{key}'s favorite pleaces is :\", end=' ')\n",
    "    for value in values:\n",
    "        print(value, end=',')\n",
    "    print(\"\\n----------------------------------------------------\")"
   ]
  },
  {
   "cell_type": "markdown",
   "metadata": {},
   "source": [
    "6.10 喜欢的数2"
   ]
  },
  {
   "cell_type": "code",
   "execution_count": 22,
   "metadata": {},
   "outputs": [
    {
     "name": "stdout",
     "output_type": "stream",
     "text": [
      "jack's favorite number is : 1,2,\n",
      "----------------------------------------------------\n",
      "john's favorite number is : 3,4,5,\n",
      "----------------------------------------------------\n",
      "alice's favorite number is : 6,7,8,\n",
      "----------------------------------------------------\n"
     ]
    }
   ],
   "source": [
    "number = {'jack':[1, 2], 'john': [3,4,\n",
    "5],   'alice': [6, 7, 8]}\n",
    "for key,values in number.items():\n",
    "    print(f\"{key}'s favorite number is :\", end=' ')\n",
    "    for value in values:\n",
    "        print(value, end=',')\n",
    "    print(\"\\n----------------------------------------------------\")"
   ]
  },
  {
   "cell_type": "markdown",
   "metadata": {},
   "source": [
    "6.11 城市"
   ]
  },
  {
   "cell_type": "code",
   "execution_count": 21,
   "metadata": {},
   "outputs": [
    {
     "name": "stdout",
     "output_type": "stream",
     "text": [
      "shanghai:\n",
      "country: china\n",
      "popultion: 10000\n",
      "--------------------------------\n",
      "new york:\n",
      "country: american\n",
      "popultion: 1000\n",
      "--------------------------------\n",
      "london:\n",
      "country: english\n",
      "popultion: 100\n",
      "--------------------------------\n"
     ]
    }
   ],
   "source": [
    "cities = {\n",
    "    'shanghai':{'country':'china','popultion': '10000'},\n",
    "    'new york':{'country':'american','popultion': '1000'},\n",
    "    'london':{'country':'english','popultion': '100'}\n",
    "    }\n",
    "\n",
    "for key, value in cities.items():\n",
    "    print(key + \":\")\n",
    "    for key1,value1 in value.items():\n",
    "        print(f\"{key1}: {value1}\")\n",
    "    print('--------------------------------')"
   ]
  }
 ],
 "metadata": {
  "kernelspec": {
   "display_name": "Python 3",
   "language": "python",
   "name": "python3"
  },
  "language_info": {
   "codemirror_mode": {
    "name": "ipython",
    "version": 3
   },
   "file_extension": ".py",
   "mimetype": "text/x-python",
   "name": "python",
   "nbconvert_exporter": "python",
   "pygments_lexer": "ipython3",
   "version": "3.11.3"
  }
 },
 "nbformat": 4,
 "nbformat_minor": 2
}
